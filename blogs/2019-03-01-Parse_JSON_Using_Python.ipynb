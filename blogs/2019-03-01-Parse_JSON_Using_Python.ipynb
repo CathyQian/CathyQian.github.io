{
 "cells": [
  {
   "cell_type": "markdown",
   "metadata": {},
   "source": [
    "Using weather API to deploy a HTTP GET call: https://api.weather.gov/gridpoints/TOP/31,80 in Postman, we will get the following JSON file as a return.\n",
    "\n",
    "\n",
    "So how do we extract useful information from the JSON file?"
   ]
  },
  {
   "cell_type": "code",
   "execution_count": 1,
   "metadata": {},
   "outputs": [],
   "source": [
    "data = [{\"context\": \n",
    "        [\"https://raw.githubusercontent.com/geojson/geojson-ld/master/contexts/geojson-base.jsonld\",\n",
    "        {\n",
    "            \"wx\": \"https://api.weather.gov/ontology#\",\n",
    "            \"s\": \"https://schema.org/\",\n",
    "            \"geo\": \"http://www.opengis.net/ont/geosparql#\",\n",
    "            \"unit\": \"http://codes.wmo.int/common/unit/\",\n",
    "            \"@vocab\": \"https://api.weather.gov/ontology#\",\n",
    "            \"geometry\": {\n",
    "                \"@id\": \"s:GeoCoordinates\",\n",
    "                \"@type\": \"geo:wktLiteral\"\n",
    "            },\n",
    "            \"city\": \"s:addressLocality\",\n",
    "            \"state\": \"s:addressRegion\",\n",
    "            \"distance\": {\n",
    "                \"@id\": \"s:Distance\",\n",
    "                \"@type\": \"s:QuantitativeValue\"\n",
    "            }\n",
    "        }\n",
    "    ],\n",
    "    \"id\": \"https://api.weather.gov/gridpoints/TOP/31,80\",\n",
    "    \"type\": \"Feature\",\n",
    "    \"geometry\": {\n",
    "        \"type\": \"Polygon\",\n",
    "        \"coordinates\": [\n",
    "            [\n",
    "                [\n",
    "                    -97.1089731,\n",
    "                    39.766826299999998\n",
    "                ]\n",
    "            ]\n",
    "        ]\n",
    "    },\n",
    "    \"properties\": {\n",
    "        \"@id\": \"https://api.weather.gov/gridpoints/TOP/31,80\",\n",
    "        \"@type\": \"wx:Gridpoint\",\n",
    "        \"updateTime\": \"2018-11-07T17:10:41+00:00\",\n",
    "        \"validTimes\": \"2018-11-07T11:00:00+00:00/P7DT14H\",\n",
    "        \"elevation\": {\n",
    "            \"value\": 441.96000000000004,\n",
    "            \"unitCode\": \"unit:m\"\n",
    "        },\n",
    "        \"forecastOffice\": \"https://api.weather.gov/offices/TOP\",\n",
    "        \"gridId\": \"TOP\",\n",
    "        \"gridX\": \"31\",\n",
    "        \"gridY\": \"80\",\n",
    "        \"temperature\": {\n",
    "            \"sourceUnit\": \"F\",\n",
    "            \"uom\": \"unit:degC\",\n",
    "            \"values\": [\n",
    "                {\n",
    "                    \"validTime\": \"2018-11-07T13:00:00+00:00/PT2H\",\n",
    "                    \"value\": -1.6666666666666288\n",
    "                }]\n",
    "        }\n",
    "    }\n",
    "}]"
   ]
  },
  {
   "cell_type": "code",
   "execution_count": 2,
   "metadata": {},
   "outputs": [
    {
     "data": {
      "text/plain": [
       "list"
      ]
     },
     "execution_count": 2,
     "metadata": {},
     "output_type": "execute_result"
    }
   ],
   "source": [
    "type(data)"
   ]
  },
  {
   "cell_type": "code",
   "execution_count": 3,
   "metadata": {},
   "outputs": [
    {
     "data": {
      "text/plain": [
       "str"
      ]
     },
     "execution_count": 3,
     "metadata": {},
     "output_type": "execute_result"
    }
   ],
   "source": [
    "import json\n",
    "\n",
    "# Serialize obj to a JSON formatted str\n",
    "json_string = json.dumps(data)\n",
    "type(json_string)"
   ]
  },
  {
   "cell_type": "code",
   "execution_count": 4,
   "metadata": {},
   "outputs": [],
   "source": [
    "# store data into a json file\n",
    "with open('data.json', 'w') as outfile:\n",
    "    json.dump(data, outfile)"
   ]
  },
  {
   "cell_type": "code",
   "execution_count": 5,
   "metadata": {},
   "outputs": [
    {
     "data": {
      "text/plain": [
       "list"
      ]
     },
     "execution_count": 5,
     "metadata": {},
     "output_type": "execute_result"
    }
   ],
   "source": [
    "#load json string into data\n",
    "data = json.loads(json_string)\n",
    "type(data)"
   ]
  },
  {
   "cell_type": "code",
   "execution_count": 7,
   "metadata": {},
   "outputs": [
    {
     "data": {
      "text/plain": [
       "'https://api.weather.gov/ontology#'"
      ]
     },
     "execution_count": 7,
     "metadata": {},
     "output_type": "execute_result"
    }
   ],
   "source": [
    "#retrieve data as a dictionary\n",
    "data[0][\"context\"][1][\"wx\"]"
   ]
  },
  {
   "cell_type": "markdown",
   "metadata": {},
   "source": [
    "ref:\n",
    "\n",
    "1, https://developer.rhino3d.com/guides/rhinopython/python-xml-json/\n",
    "\n",
    "2, https://docs.python.org/3.7/library/json.html#py-to-json-table"
   ]
  },
  {
   "cell_type": "code",
   "execution_count": null,
   "metadata": {},
   "outputs": [],
   "source": []
  }
 ],
 "metadata": {
  "kernelspec": {
   "display_name": "Python 3",
   "language": "python",
   "name": "python3"
  },
  "language_info": {
   "codemirror_mode": {
    "name": "ipython",
    "version": 3
   },
   "file_extension": ".py",
   "mimetype": "text/x-python",
   "name": "python",
   "nbconvert_exporter": "python",
   "pygments_lexer": "ipython3",
   "version": "3.7.1"
  }
 },
 "nbformat": 4,
 "nbformat_minor": 2
}
